{
 "cells": [
  {
   "cell_type": "code",
   "execution_count": 1,
   "metadata": {},
   "outputs": [],
   "source": [
    "import numpy as np"
   ]
  },
  {
   "cell_type": "code",
   "execution_count": 2,
   "metadata": {},
   "outputs": [],
   "source": [
    "def vertical_aplist(p):\n",
    "    ap_list = np.array([])\n",
    "    for a in range(0, int(2 * sqrt(p))):\n",
    "        hurwitz_number = int(pari(int(4*p - a^2)).qfbhclassno()) #need to change sign because of implementaion of hurwitz class number\n",
    "        list = np.zeros(hurwitz_number)\n",
    "        list += a/float(2 * sqrt(p))\n",
    "        ap_list = np.append(ap_list, list)\n",
    "        if a != 0:\n",
    "            ap_list = np.append(ap_list, -list)\n",
    "    return ap_list\n",
    "\n",
    "    def horizontal_aplist(E, n):\n",
    "        anlist = E.anlist(n)\n",
    "        return [float(anlist[p])/(two*sqrt(p)) for p in primes]"
   ]
  }
 ],
 "metadata": {
  "kernelspec": {
   "display_name": "SageMath 9.2",
   "language": "sage",
   "name": "sagemath"
  },
  "language_info": {
   "codemirror_mode": {
    "name": "ipython",
    "version": 3
   },
   "file_extension": ".py",
   "mimetype": "text/x-python",
   "name": "python",
   "nbconvert_exporter": "python",
   "pygments_lexer": "ipython3",
   "version": "3.9.7"
  },
  "orig_nbformat": 4
 },
 "nbformat": 4,
 "nbformat_minor": 2
}

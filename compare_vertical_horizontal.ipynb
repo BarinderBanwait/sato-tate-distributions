{
 "cells": [
  {
   "cell_type": "code",
   "execution_count": 11,
   "metadata": {},
   "outputs": [],
   "source": [
    "import numpy as np\n",
    "import bisect"
   ]
  },
  {
   "cell_type": "code",
   "execution_count": 15,
   "metadata": {},
   "outputs": [
    {
     "name": "stdout",
     "output_type": "stream",
     "text": [
      "set up Y_vertical and Y_horizontal\n"
     ]
    },
    {
     "data": {
      "text/plain": [
       "(7.369747247134774e-05, 3.0773765135891926e-05)"
      ]
     },
     "execution_count": 15,
     "metadata": {},
     "output_type": "execute_result"
    }
   ],
   "source": [
    "def vertical_aplist(p):\n",
    "    ap_list = np.array([])\n",
    "    for a in range(0, int(2 * sqrt(p))):\n",
    "        hurwitz_number = int(pari(int(4*p - a^2)).qfbhclassno()) #need to change sign because of implementaion of hurwitz class number\n",
    "        list = np.zeros(hurwitz_number)\n",
    "        list += a/float(2 * sqrt(p))\n",
    "        ap_list = np.append(ap_list, list)\n",
    "        if a != 0:\n",
    "            ap_list = np.append(ap_list, -list)\n",
    "    return ap_list\n",
    "\n",
    "def horizontal_aplist(E, n):\n",
    "    anlist = E.anlist(n)\n",
    "    primes = prime_range(n)\n",
    "    return [float(anlist[p])/(2*sqrt(p)) for p in primes]\n",
    "\n",
    "def YCab(E, Cmax, a=-1, b=1):\n",
    "    v = horizontal_aplist(E, Cmax)\n",
    "    v.sort()\n",
    "    \n",
    "    denom = bisect.bisect_right(v, float(b)) - bisect.bisect_left(v, float(a))\n",
    "    try:\n",
    "        normalize = float(1)/denom\n",
    "    except:\n",
    "        def Y(T):\n",
    "            return 1.0r\n",
    "        return Y\n",
    "    start_pos = bisect.bisect_left(v, float(a))\n",
    "    \n",
    "    def Y(T):\n",
    "        # find position that T would go in if it were inserted\n",
    "        # in the sorted list v.\n",
    "        n = bisect.bisect_right(v, float(T)) - start_pos\n",
    "        return n * normalize\n",
    "    return Y\n",
    "\n",
    "def Ypab(p, a=-1, b=1):\n",
    "    v = vertical_aplist(p)\n",
    "    v.sort()\n",
    "    denom = bisect.bisect_right(v, float(b)) - bisect.bisect_left(v, float(a))\n",
    "    try:\n",
    "        normalize = float(1)/denom\n",
    "    except:\n",
    "        def Y(T):\n",
    "            return 1.0r\n",
    "        return Y\n",
    "    start_pos = bisect.bisect_left(v, float(a))\n",
    "\n",
    "    def Y(T):\n",
    "        # find position that T would go in if it were inserted\n",
    "        # in the sorted list v.\n",
    "        n = bisect.bisect_right(v, float(T)) - start_pos\n",
    "        return n * normalize\n",
    "    return Y\n",
    "\n",
    "def L2_delta(E, n, p, a=-1, b=1, max_points=100):\n",
    "    vertical_aps = vertical_aplist(p)\n",
    "    horizontal_aps = horizontal_aplist(E, n)\n",
    "    #key = (E,n,p,a,b,max_points)\n",
    "    #try:\n",
    "    #    return self._delta[key]\n",
    "    #except AttributeError:\n",
    "    #    self._delta = {}\n",
    "    #except KeyError:\n",
    "    #    pass\n",
    "    Y_vertical = Ypab(p, a, b)\n",
    "    Y_horizontal = YCab(E, n, a, b)\n",
    "    print(\"set up Y_vertical and Y_horizontal\")\n",
    "\n",
    "\n",
    "    def h(T):\n",
    "        return (Y_horizontal(T) - Y_vertical(T))^2r\n",
    "    \n",
    "    val, err = integral_numerical(h, a, b, max_points=max_points, algorithm='qag', rule=1, eps_abs=1e-10, eps_rel=1e-10)\n",
    "    \n",
    "    #_delta[key] = (val, err)\n",
    "    return val, err\n",
    "\n",
    "#def plot_Delta(E, n, pmax, step_size=10, max_points=100, a=-1, b=1):\n",
    "#    v = [(p,L2_delta(E, n, p, a, b, max_points=max_points)[0]) for p in prime_range(10,pmax)[::step_size]]\n",
    "#    return line(v,rgbcolor=(0,0,0), ymin=0, ymax=0.1)\n",
    "\n",
    "E = EllipticCurve(\"11a1\")\n",
    "n = 10000\n",
    "p = 1499\n",
    "L2_delta(E, n, p, a=-1, b=1, max_points=100)"
   ]
  }
 ],
 "metadata": {
  "kernelspec": {
   "display_name": "SageMath 9.2",
   "language": "sage",
   "name": "sagemath"
  },
  "language_info": {
   "codemirror_mode": {
    "name": "ipython",
    "version": 3
   },
   "file_extension": ".py",
   "mimetype": "text/x-python",
   "name": "sage",
   "nbconvert_exporter": "python",
   "pygments_lexer": "ipython3",
   "version": "3.9.7"
  },
  "orig_nbformat": 4
 },
 "nbformat": 4,
 "nbformat_minor": 2
}
